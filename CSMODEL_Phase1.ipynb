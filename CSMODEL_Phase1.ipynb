{
 "cells": [
  {
   "cell_type": "markdown",
   "id": "d6048929-1ae1-4b0c-9200-e0c91f370e2e",
   "metadata": {},
   "source": [
    "# CSMODEL Phase 1\n",
    "Roles:\n",
    "Dataset Description - Ethan <br>\n",
    "Data Cleaning - Paul, Hans <br>\n",
    "Exploratory Data Analysis - Hans <br>\n",
    "Research Questions - Paul, Ethan <br>\n"
   ]
  },
  {
   "cell_type": "code",
   "execution_count": null,
   "id": "24b19fc6-c74e-443d-8821-95fc7134591c",
   "metadata": {},
   "outputs": [],
   "source": [
    "import pandas as pd\n",
    "import numpy as np"
   ]
  },
  {
   "cell_type": "code",
   "execution_count": null,
   "id": "a874e039-1fd0-43b6-85b1-2e348392f6f0",
   "metadata": {},
   "outputs": [],
   "source": [
    "pd.read_csv(\"\")"
   ]
  },
  {
   "cell_type": "code",
   "execution_count": null,
   "id": "db59898d-6e77-47ed-bc28-79162e15ce88",
   "metadata": {},
   "outputs": [],
   "source": []
  },
  {
   "cell_type": "code",
   "execution_count": null,
   "id": "1c1ba009-bace-49eb-9510-b0fe80cec008",
   "metadata": {},
   "outputs": [],
   "source": []
  },
  {
   "cell_type": "code",
   "execution_count": null,
   "id": "9ba2bc8b-fce7-4c6d-81af-01a54b264bff",
   "metadata": {},
   "outputs": [],
   "source": []
  }
 ],
 "metadata": {
  "kernelspec": {
   "display_name": "Python 3 (ipykernel)",
   "language": "python",
   "name": "python3"
  },
  "language_info": {
   "codemirror_mode": {
    "name": "ipython",
    "version": 3
   },
   "file_extension": ".py",
   "mimetype": "text/x-python",
   "name": "python",
   "nbconvert_exporter": "python",
   "pygments_lexer": "ipython3",
   "version": "3.11.7"
  }
 },
 "nbformat": 4,
 "nbformat_minor": 5
}
