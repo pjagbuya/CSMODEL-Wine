{
 "cells": [
  {
   "cell_type": "markdown",
   "id": "d6048929-1ae1-4b0c-9200-e0c91f370e2e",
   "metadata": {},
   "source": [
    "# CSMODEL Phase 1\n",
    "\n",
    "## Research Question: Which Variables Affect the Quality of Wine the Most ? \n",
    "\n",
    "Roles:\n",
    "Dataset Description - Ethan <br>\n",
    "Data Cleaning - Paul, Hans <br>\n",
    "Exploratory Data Analysis - Hans <br>\n",
    "Research Questions - Paul, Ethan <br>\n"
   ]
  },
  {
   "cell_type": "code",
   "execution_count": 2,
   "id": "24b19fc6-c74e-443d-8821-95fc7134591c",
   "metadata": {},
   "outputs": [],
   "source": [
    "import pandas as pd\n",
    "import numpy as np"
   ]
  },
  {
   "cell_type": "markdown",
   "id": "85b16ac3",
   "metadata": {},
   "source": [
    "# Reading the dataset "
   ]
  },
  {
   "cell_type": "code",
   "execution_count": 3,
   "id": "a874e039-1fd0-43b6-85b1-2e348392f6f0",
   "metadata": {},
   "outputs": [
    {
     "data": {
      "text/html": [
       "<div>\n",
       "<style scoped>\n",
       "    .dataframe tbody tr th:only-of-type {\n",
       "        vertical-align: middle;\n",
       "    }\n",
       "\n",
       "    .dataframe tbody tr th {\n",
       "        vertical-align: top;\n",
       "    }\n",
       "\n",
       "    .dataframe thead th {\n",
       "        text-align: right;\n",
       "    }\n",
       "</style>\n",
       "<table border=\"1\" class=\"dataframe\">\n",
       "  <thead>\n",
       "    <tr style=\"text-align: right;\">\n",
       "      <th></th>\n",
       "      <th>fixed acidity</th>\n",
       "      <th>volatile acidity</th>\n",
       "      <th>citric acid</th>\n",
       "      <th>residual sugar</th>\n",
       "      <th>chlorides</th>\n",
       "      <th>free sulfur dioxide</th>\n",
       "      <th>total sulfur dioxide</th>\n",
       "      <th>density</th>\n",
       "      <th>pH</th>\n",
       "      <th>sulphates</th>\n",
       "      <th>alcohol</th>\n",
       "      <th>quality</th>\n",
       "    </tr>\n",
       "  </thead>\n",
       "  <tbody>\n",
       "    <tr>\n",
       "      <th>0</th>\n",
       "      <td>7.4</td>\n",
       "      <td>0.700</td>\n",
       "      <td>0.00</td>\n",
       "      <td>1.9</td>\n",
       "      <td>0.076</td>\n",
       "      <td>11.0</td>\n",
       "      <td>34.0</td>\n",
       "      <td>0.99780</td>\n",
       "      <td>3.51</td>\n",
       "      <td>0.56</td>\n",
       "      <td>9.4</td>\n",
       "      <td>5</td>\n",
       "    </tr>\n",
       "    <tr>\n",
       "      <th>1</th>\n",
       "      <td>7.8</td>\n",
       "      <td>0.880</td>\n",
       "      <td>0.00</td>\n",
       "      <td>2.6</td>\n",
       "      <td>0.098</td>\n",
       "      <td>25.0</td>\n",
       "      <td>67.0</td>\n",
       "      <td>0.99680</td>\n",
       "      <td>3.20</td>\n",
       "      <td>0.68</td>\n",
       "      <td>9.8</td>\n",
       "      <td>5</td>\n",
       "    </tr>\n",
       "    <tr>\n",
       "      <th>2</th>\n",
       "      <td>7.8</td>\n",
       "      <td>0.760</td>\n",
       "      <td>0.04</td>\n",
       "      <td>2.3</td>\n",
       "      <td>0.092</td>\n",
       "      <td>15.0</td>\n",
       "      <td>54.0</td>\n",
       "      <td>0.99700</td>\n",
       "      <td>3.26</td>\n",
       "      <td>0.65</td>\n",
       "      <td>9.8</td>\n",
       "      <td>5</td>\n",
       "    </tr>\n",
       "    <tr>\n",
       "      <th>3</th>\n",
       "      <td>11.2</td>\n",
       "      <td>0.280</td>\n",
       "      <td>0.56</td>\n",
       "      <td>1.9</td>\n",
       "      <td>0.075</td>\n",
       "      <td>17.0</td>\n",
       "      <td>60.0</td>\n",
       "      <td>0.99800</td>\n",
       "      <td>3.16</td>\n",
       "      <td>0.58</td>\n",
       "      <td>9.8</td>\n",
       "      <td>6</td>\n",
       "    </tr>\n",
       "    <tr>\n",
       "      <th>4</th>\n",
       "      <td>7.4</td>\n",
       "      <td>0.700</td>\n",
       "      <td>0.00</td>\n",
       "      <td>1.9</td>\n",
       "      <td>0.076</td>\n",
       "      <td>11.0</td>\n",
       "      <td>34.0</td>\n",
       "      <td>0.99780</td>\n",
       "      <td>3.51</td>\n",
       "      <td>0.56</td>\n",
       "      <td>9.4</td>\n",
       "      <td>5</td>\n",
       "    </tr>\n",
       "    <tr>\n",
       "      <th>...</th>\n",
       "      <td>...</td>\n",
       "      <td>...</td>\n",
       "      <td>...</td>\n",
       "      <td>...</td>\n",
       "      <td>...</td>\n",
       "      <td>...</td>\n",
       "      <td>...</td>\n",
       "      <td>...</td>\n",
       "      <td>...</td>\n",
       "      <td>...</td>\n",
       "      <td>...</td>\n",
       "      <td>...</td>\n",
       "    </tr>\n",
       "    <tr>\n",
       "      <th>1594</th>\n",
       "      <td>6.2</td>\n",
       "      <td>0.600</td>\n",
       "      <td>0.08</td>\n",
       "      <td>2.0</td>\n",
       "      <td>0.090</td>\n",
       "      <td>32.0</td>\n",
       "      <td>44.0</td>\n",
       "      <td>0.99490</td>\n",
       "      <td>3.45</td>\n",
       "      <td>0.58</td>\n",
       "      <td>10.5</td>\n",
       "      <td>5</td>\n",
       "    </tr>\n",
       "    <tr>\n",
       "      <th>1595</th>\n",
       "      <td>5.9</td>\n",
       "      <td>0.550</td>\n",
       "      <td>0.10</td>\n",
       "      <td>2.2</td>\n",
       "      <td>0.062</td>\n",
       "      <td>39.0</td>\n",
       "      <td>51.0</td>\n",
       "      <td>0.99512</td>\n",
       "      <td>3.52</td>\n",
       "      <td>0.76</td>\n",
       "      <td>11.2</td>\n",
       "      <td>6</td>\n",
       "    </tr>\n",
       "    <tr>\n",
       "      <th>1596</th>\n",
       "      <td>6.3</td>\n",
       "      <td>0.510</td>\n",
       "      <td>0.13</td>\n",
       "      <td>2.3</td>\n",
       "      <td>0.076</td>\n",
       "      <td>29.0</td>\n",
       "      <td>40.0</td>\n",
       "      <td>0.99574</td>\n",
       "      <td>3.42</td>\n",
       "      <td>0.75</td>\n",
       "      <td>11.0</td>\n",
       "      <td>6</td>\n",
       "    </tr>\n",
       "    <tr>\n",
       "      <th>1597</th>\n",
       "      <td>5.9</td>\n",
       "      <td>0.645</td>\n",
       "      <td>0.12</td>\n",
       "      <td>2.0</td>\n",
       "      <td>0.075</td>\n",
       "      <td>32.0</td>\n",
       "      <td>44.0</td>\n",
       "      <td>0.99547</td>\n",
       "      <td>3.57</td>\n",
       "      <td>0.71</td>\n",
       "      <td>10.2</td>\n",
       "      <td>5</td>\n",
       "    </tr>\n",
       "    <tr>\n",
       "      <th>1598</th>\n",
       "      <td>6.0</td>\n",
       "      <td>0.310</td>\n",
       "      <td>0.47</td>\n",
       "      <td>3.6</td>\n",
       "      <td>0.067</td>\n",
       "      <td>18.0</td>\n",
       "      <td>42.0</td>\n",
       "      <td>0.99549</td>\n",
       "      <td>3.39</td>\n",
       "      <td>0.66</td>\n",
       "      <td>11.0</td>\n",
       "      <td>6</td>\n",
       "    </tr>\n",
       "  </tbody>\n",
       "</table>\n",
       "<p>1599 rows × 12 columns</p>\n",
       "</div>"
      ],
      "text/plain": [
       "      fixed acidity  volatile acidity  citric acid  residual sugar  chlorides  \\\n",
       "0               7.4             0.700         0.00             1.9      0.076   \n",
       "1               7.8             0.880         0.00             2.6      0.098   \n",
       "2               7.8             0.760         0.04             2.3      0.092   \n",
       "3              11.2             0.280         0.56             1.9      0.075   \n",
       "4               7.4             0.700         0.00             1.9      0.076   \n",
       "...             ...               ...          ...             ...        ...   \n",
       "1594            6.2             0.600         0.08             2.0      0.090   \n",
       "1595            5.9             0.550         0.10             2.2      0.062   \n",
       "1596            6.3             0.510         0.13             2.3      0.076   \n",
       "1597            5.9             0.645         0.12             2.0      0.075   \n",
       "1598            6.0             0.310         0.47             3.6      0.067   \n",
       "\n",
       "      free sulfur dioxide  total sulfur dioxide  density    pH  sulphates  \\\n",
       "0                    11.0                  34.0  0.99780  3.51       0.56   \n",
       "1                    25.0                  67.0  0.99680  3.20       0.68   \n",
       "2                    15.0                  54.0  0.99700  3.26       0.65   \n",
       "3                    17.0                  60.0  0.99800  3.16       0.58   \n",
       "4                    11.0                  34.0  0.99780  3.51       0.56   \n",
       "...                   ...                   ...      ...   ...        ...   \n",
       "1594                 32.0                  44.0  0.99490  3.45       0.58   \n",
       "1595                 39.0                  51.0  0.99512  3.52       0.76   \n",
       "1596                 29.0                  40.0  0.99574  3.42       0.75   \n",
       "1597                 32.0                  44.0  0.99547  3.57       0.71   \n",
       "1598                 18.0                  42.0  0.99549  3.39       0.66   \n",
       "\n",
       "      alcohol  quality  \n",
       "0         9.4        5  \n",
       "1         9.8        5  \n",
       "2         9.8        5  \n",
       "3         9.8        6  \n",
       "4         9.4        5  \n",
       "...       ...      ...  \n",
       "1594     10.5        5  \n",
       "1595     11.2        6  \n",
       "1596     11.0        6  \n",
       "1597     10.2        5  \n",
       "1598     11.0        6  \n",
       "\n",
       "[1599 rows x 12 columns]"
      ]
     },
     "execution_count": 3,
     "metadata": {},
     "output_type": "execute_result"
    }
   ],
   "source": [
    "df = pd.DataFrame()\n",
    "\n",
    "df = pd.read_csv(\"winequality-red.csv\")\n",
    "\n",
    "df"
   ]
  },
  {
   "cell_type": "markdown",
   "id": "b47508f0",
   "metadata": {},
   "source": [
    "# Cleaning the Dataset\n",
    "\n",
    "In order to conduct a proper study using the <b>red wine dataset</b> it is essential to clean the data and rid the dataset of the following:\n",
    "\n",
    "- multiple representation of the same categorical value\n",
    "- incorrect datatype variable\n",
    "- values that are set to default values of the variable \n",
    "- missing data\n",
    "- duplicate data\n",
    "- inconsistent formatting\n",
    "\n",
    "For this study, it is only required to clean variables that will utilized in the study; as such the following varibles will be used\n",
    "\n",
    "- **`fixed acidity`**: collection of volatility organic acids.\n",
    "- **`volatile acidity`**:\n",
    "- **`citric acid`**:\n",
    "- **`residual sugar`**:\n",
    "- **`chlorides`**:\n",
    "- **`free sulfer dioxide`**:\n",
    "- **`total sulfer dioxide`**:\n",
    "- **`density`**:\n",
    "- **`pH`**: the potency and concentration of of the dissociated acids in the wine\n",
    "- **`sulphates`**:\n",
    "- **`alchohol`**:\n",
    "- **`quality`**:\n"
   ]
  },
  {
   "cell_type": "markdown",
   "id": "794eae8b",
   "metadata": {},
   "source": [
    "# Get the datatypes per column"
   ]
  },
  {
   "cell_type": "code",
   "execution_count": 4,
   "id": "d3acc88f",
   "metadata": {},
   "outputs": [
    {
     "data": {
      "text/plain": [
       "fixed acidity           float64\n",
       "volatile acidity        float64\n",
       "citric acid             float64\n",
       "residual sugar          float64\n",
       "chlorides               float64\n",
       "free sulfur dioxide     float64\n",
       "total sulfur dioxide    float64\n",
       "density                 float64\n",
       "pH                      float64\n",
       "sulphates               float64\n",
       "alcohol                 float64\n",
       "quality                   int64\n",
       "dtype: object"
      ]
     },
     "execution_count": 4,
     "metadata": {},
     "output_type": "execute_result"
    }
   ],
   "source": [
    "datatypes = df.dtypes\n",
    "datatypes"
   ]
  },
  {
   "cell_type": "markdown",
   "id": "152f98f3",
   "metadata": {},
   "source": [
    "# Get the null values per column"
   ]
  },
  {
   "cell_type": "code",
   "execution_count": 5,
   "id": "4f123c1b",
   "metadata": {},
   "outputs": [
    {
     "data": {
      "text/plain": [
       "fixed acidity           0\n",
       "volatile acidity        0\n",
       "citric acid             0\n",
       "residual sugar          0\n",
       "chlorides               0\n",
       "free sulfur dioxide     0\n",
       "total sulfur dioxide    0\n",
       "density                 0\n",
       "pH                      0\n",
       "sulphates               0\n",
       "alcohol                 0\n",
       "quality                 0\n",
       "dtype: int64"
      ]
     },
     "execution_count": 5,
     "metadata": {},
     "output_type": "execute_result"
    }
   ],
   "source": [
    "df.isnull().sum()"
   ]
  },
  {
   "cell_type": "markdown",
   "id": "06247ab9",
   "metadata": {},
   "source": [
    "# Drop duplicate values"
   ]
  },
  {
   "cell_type": "code",
   "execution_count": 6,
   "id": "d332b4fd",
   "metadata": {},
   "outputs": [
    {
     "data": {
      "text/html": [
       "<div>\n",
       "<style scoped>\n",
       "    .dataframe tbody tr th:only-of-type {\n",
       "        vertical-align: middle;\n",
       "    }\n",
       "\n",
       "    .dataframe tbody tr th {\n",
       "        vertical-align: top;\n",
       "    }\n",
       "\n",
       "    .dataframe thead th {\n",
       "        text-align: right;\n",
       "    }\n",
       "</style>\n",
       "<table border=\"1\" class=\"dataframe\">\n",
       "  <thead>\n",
       "    <tr style=\"text-align: right;\">\n",
       "      <th></th>\n",
       "      <th>fixed acidity</th>\n",
       "      <th>volatile acidity</th>\n",
       "      <th>citric acid</th>\n",
       "      <th>residual sugar</th>\n",
       "      <th>chlorides</th>\n",
       "      <th>free sulfur dioxide</th>\n",
       "      <th>total sulfur dioxide</th>\n",
       "      <th>density</th>\n",
       "      <th>pH</th>\n",
       "      <th>sulphates</th>\n",
       "      <th>alcohol</th>\n",
       "      <th>quality</th>\n",
       "    </tr>\n",
       "  </thead>\n",
       "  <tbody>\n",
       "    <tr>\n",
       "      <th>0</th>\n",
       "      <td>7.4</td>\n",
       "      <td>0.700</td>\n",
       "      <td>0.00</td>\n",
       "      <td>1.9</td>\n",
       "      <td>0.076</td>\n",
       "      <td>11.0</td>\n",
       "      <td>34.0</td>\n",
       "      <td>0.99780</td>\n",
       "      <td>3.51</td>\n",
       "      <td>0.56</td>\n",
       "      <td>9.4</td>\n",
       "      <td>5</td>\n",
       "    </tr>\n",
       "    <tr>\n",
       "      <th>1</th>\n",
       "      <td>7.8</td>\n",
       "      <td>0.880</td>\n",
       "      <td>0.00</td>\n",
       "      <td>2.6</td>\n",
       "      <td>0.098</td>\n",
       "      <td>25.0</td>\n",
       "      <td>67.0</td>\n",
       "      <td>0.99680</td>\n",
       "      <td>3.20</td>\n",
       "      <td>0.68</td>\n",
       "      <td>9.8</td>\n",
       "      <td>5</td>\n",
       "    </tr>\n",
       "    <tr>\n",
       "      <th>2</th>\n",
       "      <td>7.8</td>\n",
       "      <td>0.760</td>\n",
       "      <td>0.04</td>\n",
       "      <td>2.3</td>\n",
       "      <td>0.092</td>\n",
       "      <td>15.0</td>\n",
       "      <td>54.0</td>\n",
       "      <td>0.99700</td>\n",
       "      <td>3.26</td>\n",
       "      <td>0.65</td>\n",
       "      <td>9.8</td>\n",
       "      <td>5</td>\n",
       "    </tr>\n",
       "    <tr>\n",
       "      <th>3</th>\n",
       "      <td>11.2</td>\n",
       "      <td>0.280</td>\n",
       "      <td>0.56</td>\n",
       "      <td>1.9</td>\n",
       "      <td>0.075</td>\n",
       "      <td>17.0</td>\n",
       "      <td>60.0</td>\n",
       "      <td>0.99800</td>\n",
       "      <td>3.16</td>\n",
       "      <td>0.58</td>\n",
       "      <td>9.8</td>\n",
       "      <td>6</td>\n",
       "    </tr>\n",
       "    <tr>\n",
       "      <th>5</th>\n",
       "      <td>7.4</td>\n",
       "      <td>0.660</td>\n",
       "      <td>0.00</td>\n",
       "      <td>1.8</td>\n",
       "      <td>0.075</td>\n",
       "      <td>13.0</td>\n",
       "      <td>40.0</td>\n",
       "      <td>0.99780</td>\n",
       "      <td>3.51</td>\n",
       "      <td>0.56</td>\n",
       "      <td>9.4</td>\n",
       "      <td>5</td>\n",
       "    </tr>\n",
       "    <tr>\n",
       "      <th>...</th>\n",
       "      <td>...</td>\n",
       "      <td>...</td>\n",
       "      <td>...</td>\n",
       "      <td>...</td>\n",
       "      <td>...</td>\n",
       "      <td>...</td>\n",
       "      <td>...</td>\n",
       "      <td>...</td>\n",
       "      <td>...</td>\n",
       "      <td>...</td>\n",
       "      <td>...</td>\n",
       "      <td>...</td>\n",
       "    </tr>\n",
       "    <tr>\n",
       "      <th>1593</th>\n",
       "      <td>6.8</td>\n",
       "      <td>0.620</td>\n",
       "      <td>0.08</td>\n",
       "      <td>1.9</td>\n",
       "      <td>0.068</td>\n",
       "      <td>28.0</td>\n",
       "      <td>38.0</td>\n",
       "      <td>0.99651</td>\n",
       "      <td>3.42</td>\n",
       "      <td>0.82</td>\n",
       "      <td>9.5</td>\n",
       "      <td>6</td>\n",
       "    </tr>\n",
       "    <tr>\n",
       "      <th>1594</th>\n",
       "      <td>6.2</td>\n",
       "      <td>0.600</td>\n",
       "      <td>0.08</td>\n",
       "      <td>2.0</td>\n",
       "      <td>0.090</td>\n",
       "      <td>32.0</td>\n",
       "      <td>44.0</td>\n",
       "      <td>0.99490</td>\n",
       "      <td>3.45</td>\n",
       "      <td>0.58</td>\n",
       "      <td>10.5</td>\n",
       "      <td>5</td>\n",
       "    </tr>\n",
       "    <tr>\n",
       "      <th>1595</th>\n",
       "      <td>5.9</td>\n",
       "      <td>0.550</td>\n",
       "      <td>0.10</td>\n",
       "      <td>2.2</td>\n",
       "      <td>0.062</td>\n",
       "      <td>39.0</td>\n",
       "      <td>51.0</td>\n",
       "      <td>0.99512</td>\n",
       "      <td>3.52</td>\n",
       "      <td>0.76</td>\n",
       "      <td>11.2</td>\n",
       "      <td>6</td>\n",
       "    </tr>\n",
       "    <tr>\n",
       "      <th>1597</th>\n",
       "      <td>5.9</td>\n",
       "      <td>0.645</td>\n",
       "      <td>0.12</td>\n",
       "      <td>2.0</td>\n",
       "      <td>0.075</td>\n",
       "      <td>32.0</td>\n",
       "      <td>44.0</td>\n",
       "      <td>0.99547</td>\n",
       "      <td>3.57</td>\n",
       "      <td>0.71</td>\n",
       "      <td>10.2</td>\n",
       "      <td>5</td>\n",
       "    </tr>\n",
       "    <tr>\n",
       "      <th>1598</th>\n",
       "      <td>6.0</td>\n",
       "      <td>0.310</td>\n",
       "      <td>0.47</td>\n",
       "      <td>3.6</td>\n",
       "      <td>0.067</td>\n",
       "      <td>18.0</td>\n",
       "      <td>42.0</td>\n",
       "      <td>0.99549</td>\n",
       "      <td>3.39</td>\n",
       "      <td>0.66</td>\n",
       "      <td>11.0</td>\n",
       "      <td>6</td>\n",
       "    </tr>\n",
       "  </tbody>\n",
       "</table>\n",
       "<p>1359 rows × 12 columns</p>\n",
       "</div>"
      ],
      "text/plain": [
       "      fixed acidity  volatile acidity  citric acid  residual sugar  chlorides  \\\n",
       "0               7.4             0.700         0.00             1.9      0.076   \n",
       "1               7.8             0.880         0.00             2.6      0.098   \n",
       "2               7.8             0.760         0.04             2.3      0.092   \n",
       "3              11.2             0.280         0.56             1.9      0.075   \n",
       "5               7.4             0.660         0.00             1.8      0.075   \n",
       "...             ...               ...          ...             ...        ...   \n",
       "1593            6.8             0.620         0.08             1.9      0.068   \n",
       "1594            6.2             0.600         0.08             2.0      0.090   \n",
       "1595            5.9             0.550         0.10             2.2      0.062   \n",
       "1597            5.9             0.645         0.12             2.0      0.075   \n",
       "1598            6.0             0.310         0.47             3.6      0.067   \n",
       "\n",
       "      free sulfur dioxide  total sulfur dioxide  density    pH  sulphates  \\\n",
       "0                    11.0                  34.0  0.99780  3.51       0.56   \n",
       "1                    25.0                  67.0  0.99680  3.20       0.68   \n",
       "2                    15.0                  54.0  0.99700  3.26       0.65   \n",
       "3                    17.0                  60.0  0.99800  3.16       0.58   \n",
       "5                    13.0                  40.0  0.99780  3.51       0.56   \n",
       "...                   ...                   ...      ...   ...        ...   \n",
       "1593                 28.0                  38.0  0.99651  3.42       0.82   \n",
       "1594                 32.0                  44.0  0.99490  3.45       0.58   \n",
       "1595                 39.0                  51.0  0.99512  3.52       0.76   \n",
       "1597                 32.0                  44.0  0.99547  3.57       0.71   \n",
       "1598                 18.0                  42.0  0.99549  3.39       0.66   \n",
       "\n",
       "      alcohol  quality  \n",
       "0         9.4        5  \n",
       "1         9.8        5  \n",
       "2         9.8        5  \n",
       "3         9.8        6  \n",
       "5         9.4        5  \n",
       "...       ...      ...  \n",
       "1593      9.5        6  \n",
       "1594     10.5        5  \n",
       "1595     11.2        6  \n",
       "1597     10.2        5  \n",
       "1598     11.0        6  \n",
       "\n",
       "[1359 rows x 12 columns]"
      ]
     },
     "execution_count": 6,
     "metadata": {},
     "output_type": "execute_result"
    }
   ],
   "source": [
    "df = df.drop_duplicates(keep = 'first', inplace = False)\n",
    "df"
   ]
  },
  {
   "cell_type": "markdown",
   "id": "e22b0aab",
   "metadata": {},
   "source": [
    "### **`fixed acidity`** variable"
   ]
  },
  {
   "cell_type": "code",
   "execution_count": 7,
   "id": "e15f0ca7",
   "metadata": {},
   "outputs": [
    {
     "name": "stdout",
     "output_type": "stream",
     "text": [
      "[ 4.6  4.7  4.9  5.   5.1  5.2  5.3  5.4  5.5  5.6  5.7  5.8  5.9  6.\n",
      "  6.1  6.2  6.3  6.4  6.5  6.6  6.7  6.8  6.9  7.   7.1  7.2  7.3  7.4\n",
      "  7.5  7.6  7.7  7.8  7.9  8.   8.1  8.2  8.3  8.4  8.5  8.6  8.7  8.8\n",
      "  8.9  9.   9.1  9.2  9.3  9.4  9.5  9.6  9.7  9.8  9.9 10.  10.1 10.2\n",
      " 10.3 10.4 10.5 10.6 10.7 10.8 10.9 11.  11.1 11.2 11.3 11.4 11.5 11.6\n",
      " 11.7 11.8 11.9 12.  12.1 12.2 12.3 12.4 12.5 12.6 12.7 12.8 12.9 13.\n",
      " 13.2 13.3 13.4 13.5 13.7 13.8 14.  14.3 15.  15.5 15.6 15.9]\n",
      "96\n"
     ]
    }
   ],
   "source": [
    "val = df[\"fixed acidity\"].unique()\n",
    "val.sort()\n",
    "print(val)\n",
    "print(len(val))"
   ]
  },
  {
   "cell_type": "code",
   "execution_count": 8,
   "id": "917283b2",
   "metadata": {},
   "outputs": [
    {
     "data": {
      "text/plain": [
       "0"
      ]
     },
     "execution_count": 8,
     "metadata": {},
     "output_type": "execute_result"
    }
   ],
   "source": [
    "df['fixed acidity'].isnull().sum()"
   ]
  },
  {
   "cell_type": "markdown",
   "id": "e80f6b31",
   "metadata": {},
   "source": [
    "Based on looking at the results of the previous code, it is evident that there are no <i>**null**</i> values and <i>**multiple representation**</i> in the **`fixed acidity`** column\n",
    "\n",
    "therefore, we can conclude that the **`fixed acidity`** column is clean"
   ]
  },
  {
   "cell_type": "markdown",
   "id": "443cf3e7",
   "metadata": {},
   "source": [
    "### **`volatile acidity`** variable\n",
    "\n"
   ]
  },
  {
   "cell_type": "code",
   "execution_count": 9,
   "id": "8a8d33e7",
   "metadata": {},
   "outputs": [
    {
     "name": "stdout",
     "output_type": "stream",
     "text": [
      "[0.12  0.16  0.18  0.19  0.2   0.21  0.22  0.23  0.24  0.25  0.26  0.27\n",
      " 0.28  0.29  0.295 0.3   0.305 0.31  0.315 0.32  0.33  0.34  0.35  0.36\n",
      " 0.365 0.37  0.38  0.39  0.395 0.4   0.41  0.415 0.42  0.43  0.44  0.45\n",
      " 0.46  0.47  0.475 0.48  0.49  0.5   0.51  0.52  0.53  0.54  0.545 0.55\n",
      " 0.56  0.565 0.57  0.575 0.58  0.585 0.59  0.595 0.6   0.605 0.61  0.615\n",
      " 0.62  0.625 0.63  0.635 0.64  0.645 0.65  0.655 0.66  0.665 0.67  0.675\n",
      " 0.68  0.685 0.69  0.695 0.7   0.705 0.71  0.715 0.72  0.725 0.73  0.735\n",
      " 0.74  0.745 0.75  0.755 0.76  0.765 0.77  0.775 0.78  0.785 0.79  0.795\n",
      " 0.8   0.805 0.81  0.815 0.82  0.825 0.83  0.835 0.84  0.845 0.85  0.855\n",
      " 0.86  0.865 0.87  0.875 0.88  0.885 0.89  0.895 0.9   0.91  0.915 0.92\n",
      " 0.935 0.95  0.955 0.96  0.965 0.975 0.98  1.    1.005 1.01  1.02  1.025\n",
      " 1.035 1.04  1.07  1.09  1.115 1.13  1.18  1.185 1.24  1.33  1.58 ]\n",
      "143\n"
     ]
    }
   ],
   "source": [
    "val = df['volatile acidity'].unique()\n",
    "val.sort()\n",
    "print(val)\n",
    "print(len(val))"
   ]
  },
  {
   "cell_type": "code",
   "execution_count": 10,
   "id": "05ac4c2e",
   "metadata": {},
   "outputs": [
    {
     "data": {
      "text/plain": [
       "0"
      ]
     },
     "execution_count": 10,
     "metadata": {},
     "output_type": "execute_result"
    }
   ],
   "source": [
    "df['volatile acidity'].isnull().sum()"
   ]
  },
  {
   "cell_type": "markdown",
   "id": "0cd69ddb",
   "metadata": {},
   "source": [
    "Based on looking at the results of the previous code, it is evident that there are no <i>**null**</i> values and <i>**multiple representation**</i> in the **`volatile acidity`** column\n",
    "\n",
    "therefore, we can conclude that the **`volatile acidity`** column is clean"
   ]
  },
  {
   "cell_type": "markdown",
   "id": "20e64023",
   "metadata": {},
   "source": [
    "### **`citric acid`** variable"
   ]
  },
  {
   "cell_type": "code",
   "execution_count": 17,
   "id": "401a7bea",
   "metadata": {},
   "outputs": [
    {
     "name": "stdout",
     "output_type": "stream",
     "text": [
      "[0.   0.01 0.02 0.03 0.04 0.05 0.06 0.07 0.08 0.09 0.1  0.11 0.12 0.13\n",
      " 0.14 0.15 0.16 0.17 0.18 0.19 0.2  0.21 0.22 0.23 0.24 0.25 0.26 0.27\n",
      " 0.28 0.29 0.3  0.31 0.32 0.33 0.34 0.35 0.36 0.37 0.38 0.39 0.4  0.41\n",
      " 0.42 0.43 0.44 0.45 0.46 0.47 0.48 0.49 0.5  0.51 0.52 0.53 0.54 0.55\n",
      " 0.56 0.57 0.58 0.59 0.6  0.61 0.62 0.63 0.64 0.65 0.66 0.67 0.68 0.69\n",
      " 0.7  0.71 0.72 0.73 0.74 0.75 0.76 0.78 0.79 1.  ]\n",
      "80\n"
     ]
    }
   ],
   "source": [
    "val = df['citric acid'].unique()\n",
    "val.sort()\n",
    "print(val)\n",
    "print(len(val))"
   ]
  },
  {
   "cell_type": "code",
   "execution_count": 12,
   "id": "a261fad6",
   "metadata": {},
   "outputs": [
    {
     "data": {
      "text/plain": [
       "0"
      ]
     },
     "execution_count": 12,
     "metadata": {},
     "output_type": "execute_result"
    }
   ],
   "source": [
    "df['citric acid'].isnull().sum()"
   ]
  },
  {
   "cell_type": "markdown",
   "id": "0b1c92ce",
   "metadata": {},
   "source": [
    "Based on looking at the results of the previous code, it is evident that there are no <i>**null**</i> values and <i>**multiple representation**</i> in the **`citric acid`** column\n",
    "\n",
    "therefore, we can conclude that the **`citric acid`** column is clean"
   ]
  },
  {
   "cell_type": "markdown",
   "id": "83865f5e",
   "metadata": {},
   "source": [
    "### **`residual sugar`** variable"
   ]
  },
  {
   "cell_type": "code",
   "execution_count": 15,
   "id": "d7681aca",
   "metadata": {},
   "outputs": [
    {
     "name": "stdout",
     "output_type": "stream",
     "text": [
      "[ 0.9   1.2   1.3   1.4   1.5   1.6   1.65  1.7   1.75  1.8   1.9   2.\n",
      "  2.05  2.1   2.15  2.2   2.25  2.3   2.35  2.4   2.5   2.55  2.6   2.65\n",
      "  2.7   2.8   2.85  2.9   2.95  3.    3.1   3.2   3.3   3.4   3.45  3.5\n",
      "  3.6   3.65  3.7   3.75  3.8   3.9   4.    4.1   4.2   4.25  4.3   4.4\n",
      "  4.5   4.6   4.65  4.7   4.8   5.    5.1   5.15  5.2   5.4   5.5   5.6\n",
      "  5.7   5.8   5.9   6.    6.1   6.2   6.3   6.4   6.55  6.6   6.7   7.\n",
      "  7.2   7.3   7.5   7.8   7.9   8.1   8.3   8.6   8.8   8.9   9.   10.7\n",
      " 11.   12.9  13.4  13.8  13.9  15.4  15.5 ]\n",
      "91\n"
     ]
    }
   ],
   "source": [
    "val = df['residual sugar'].unique()\n",
    "val.sort()\n",
    "print(val)\n",
    "print(len(val))"
   ]
  },
  {
   "cell_type": "code",
   "execution_count": 16,
   "id": "d9202a00",
   "metadata": {},
   "outputs": [
    {
     "data": {
      "text/plain": [
       "0"
      ]
     },
     "execution_count": 16,
     "metadata": {},
     "output_type": "execute_result"
    }
   ],
   "source": [
    "df['residual sugar'].isnull().sum()"
   ]
  },
  {
   "cell_type": "markdown",
   "id": "dc84aa4d",
   "metadata": {},
   "source": [
    "Based on looking at the results of the previous code, it is evident that there are no <i>**null**</i> values and <i>**multiple representation**</i> in the **`residual sugar`** column\n",
    "\n",
    "therefore, we can conclude that the **`residual sugar`** column is clean"
   ]
  },
  {
   "cell_type": "markdown",
   "id": "b516fb20",
   "metadata": {},
   "source": [
    "### **`chlorides`** variable"
   ]
  },
  {
   "cell_type": "code",
   "execution_count": 18,
   "id": "41bb4759",
   "metadata": {},
   "outputs": [
    {
     "name": "stdout",
     "output_type": "stream",
     "text": [
      "[0.012 0.034 0.038 0.039 0.041 0.042 0.043 0.044 0.045 0.046 0.047 0.048\n",
      " 0.049 0.05  0.051 0.052 0.053 0.054 0.055 0.056 0.057 0.058 0.059 0.06\n",
      " 0.061 0.062 0.063 0.064 0.065 0.066 0.067 0.068 0.069 0.07  0.071 0.072\n",
      " 0.073 0.074 0.075 0.076 0.077 0.078 0.079 0.08  0.081 0.082 0.083 0.084\n",
      " 0.085 0.086 0.087 0.088 0.089 0.09  0.091 0.092 0.093 0.094 0.095 0.096\n",
      " 0.097 0.098 0.099 0.1   0.101 0.102 0.103 0.104 0.105 0.106 0.107 0.108\n",
      " 0.109 0.11  0.111 0.112 0.113 0.114 0.115 0.116 0.117 0.118 0.119 0.12\n",
      " 0.121 0.122 0.123 0.124 0.125 0.126 0.127 0.128 0.132 0.136 0.137 0.143\n",
      " 0.145 0.146 0.147 0.148 0.152 0.153 0.157 0.159 0.161 0.165 0.166 0.168\n",
      " 0.169 0.17  0.171 0.172 0.174 0.176 0.178 0.186 0.19  0.194 0.2   0.205\n",
      " 0.213 0.214 0.216 0.222 0.226 0.23  0.235 0.236 0.241 0.243 0.25  0.263\n",
      " 0.267 0.27  0.332 0.337 0.341 0.343 0.358 0.36  0.368 0.369 0.387 0.401\n",
      " 0.403 0.413 0.414 0.415 0.422 0.464 0.467 0.61  0.611]\n",
      "153\n"
     ]
    }
   ],
   "source": [
    "val = df['chlorides'].unique()\n",
    "val.sort()\n",
    "print(val)\n",
    "print(len(val))"
   ]
  },
  {
   "cell_type": "code",
   "execution_count": 19,
   "id": "99f14904",
   "metadata": {},
   "outputs": [
    {
     "data": {
      "text/plain": [
       "0"
      ]
     },
     "execution_count": 19,
     "metadata": {},
     "output_type": "execute_result"
    }
   ],
   "source": [
    "df['chlorides'].isnull().sum()"
   ]
  },
  {
   "cell_type": "markdown",
   "id": "94a69f87",
   "metadata": {},
   "source": [
    "Based on looking at the results of the previous code, it is evident that there are no <i>**null**</i> values and <i>**multiple representation**</i> in the **`chlorides`** column\n",
    "\n",
    "therefore, we can conclude that the **`chlorides`** column is clean"
   ]
  },
  {
   "cell_type": "markdown",
   "id": "2def8796",
   "metadata": {},
   "source": [
    "### **`free sulfur dioxide`** variable"
   ]
  },
  {
   "cell_type": "code",
   "execution_count": 21,
   "id": "e0f3a467",
   "metadata": {},
   "outputs": [
    {
     "name": "stdout",
     "output_type": "stream",
     "text": [
      "[ 1.   2.   3.   4.   5.   5.5  6.   7.   8.   9.  10.  11.  12.  13.\n",
      " 14.  15.  16.  17.  18.  19.  20.  21.  22.  23.  24.  25.  26.  27.\n",
      " 28.  29.  30.  31.  32.  33.  34.  35.  36.  37.  37.5 38.  39.  40.\n",
      " 40.5 41.  42.  43.  45.  46.  47.  48.  50.  51.  52.  53.  54.  55.\n",
      " 57.  66.  68.  72. ]\n",
      "60\n"
     ]
    }
   ],
   "source": [
    "val = df['free sulfur dioxide'].unique()\n",
    "val.sort()\n",
    "print(val)\n",
    "print(len(val))"
   ]
  },
  {
   "cell_type": "code",
   "execution_count": 22,
   "id": "123f9b5b",
   "metadata": {},
   "outputs": [
    {
     "data": {
      "text/plain": [
       "0"
      ]
     },
     "execution_count": 22,
     "metadata": {},
     "output_type": "execute_result"
    }
   ],
   "source": [
    "df['free sulfur dioxide'].isnull().sum()"
   ]
  },
  {
   "cell_type": "markdown",
   "id": "618277d0",
   "metadata": {},
   "source": [
    "Based on looking at the results of the previous code, it is evident that there are no <i>**null**</i> values and <i>**multiple representation**</i> in the **`free sulfur dioxide`** column\n",
    "\n",
    "therefore, we can conclude that the **`free sulfur dioxide`** column is clean"
   ]
  },
  {
   "cell_type": "markdown",
   "id": "2bf16a72",
   "metadata": {},
   "source": [
    "### **`total sulfer dioxide`** variable"
   ]
  },
  {
   "cell_type": "code",
   "execution_count": 23,
   "id": "b1b80755",
   "metadata": {},
   "outputs": [
    {
     "name": "stdout",
     "output_type": "stream",
     "text": [
      "[  6.    7.    8.    9.   10.   11.   12.   13.   14.   15.   16.   17.\n",
      "  18.   19.   20.   21.   22.   23.   24.   25.   26.   27.   28.   29.\n",
      "  30.   31.   32.   33.   34.   35.   36.   37.   38.   39.   40.   41.\n",
      "  42.   43.   44.   45.   46.   47.   48.   49.   50.   51.   52.   53.\n",
      "  54.   55.   56.   57.   58.   59.   60.   61.   62.   63.   64.   65.\n",
      "  66.   67.   68.   69.   70.   71.   72.   73.   74.   75.   76.   77.\n",
      "  77.5  78.   79.   80.   81.   82.   83.   84.   85.   86.   87.   88.\n",
      "  89.   90.   91.   92.   93.   94.   95.   96.   98.   99.  100.  101.\n",
      " 102.  103.  104.  105.  106.  108.  109.  110.  111.  112.  113.  114.\n",
      " 115.  116.  119.  120.  121.  122.  124.  125.  126.  127.  128.  129.\n",
      " 130.  131.  133.  134.  135.  136.  139.  140.  141.  142.  143.  144.\n",
      " 145.  147.  148.  149.  151.  152.  153.  155.  160.  165.  278.  289. ]\n",
      "144\n"
     ]
    }
   ],
   "source": [
    "val = df['total sulfur dioxide'].unique()\n",
    "val.sort()\n",
    "print(val)\n",
    "print(len(val))"
   ]
  },
  {
   "cell_type": "code",
   "execution_count": 24,
   "id": "ec186bb1",
   "metadata": {},
   "outputs": [
    {
     "data": {
      "text/plain": [
       "0"
      ]
     },
     "execution_count": 24,
     "metadata": {},
     "output_type": "execute_result"
    }
   ],
   "source": [
    "df['total sulfur dioxide'].isnull().sum()"
   ]
  },
  {
   "cell_type": "markdown",
   "id": "2e4cf0c6",
   "metadata": {},
   "source": [
    "Based on looking at the results of the previous code, it is evident that there are no <i>**null**</i> values and <i>**multiple representation**</i> in the **`total sulfur dioxide`** column\n",
    "\n",
    "therefore, we can conclude that the **`total sulfur dioxide`** column is clean"
   ]
  },
  {
   "cell_type": "markdown",
   "id": "475964d9",
   "metadata": {},
   "source": [
    "### **`density`** variable"
   ]
  },
  {
   "cell_type": "code",
   "execution_count": 25,
   "id": "a29ac70d",
   "metadata": {},
   "outputs": [
    {
     "name": "stdout",
     "output_type": "stream",
     "text": [
      "[0.99007 0.9902  0.99064 0.9908  0.99084 0.9912  0.9915  0.99154 0.99157\n",
      " 0.9916  0.99162 0.9917  0.99182 0.99191 0.9921  0.9922  0.99235 0.99236\n",
      " 0.9924  0.99242 0.99252 0.99256 0.99258 0.99264 0.9927  0.9928  0.99286\n",
      " 0.9929  0.99292 0.99294 0.99306 0.99314 0.99316 0.99318 0.9932  0.99322\n",
      " 0.99323 0.99328 0.9933  0.99331 0.99332 0.99334 0.99336 0.9934  0.99341\n",
      " 0.99344 0.99346 0.99348 0.9935  0.99352 0.99354 0.99356 0.99357 0.99358\n",
      " 0.9936  0.99362 0.99364 0.9937  0.99371 0.99374 0.99376 0.99378 0.99379\n",
      " 0.9938  0.99384 0.99385 0.99386 0.99387 0.99388 0.99392 0.99394 0.99395\n",
      " 0.99396 0.99397 0.994   0.99402 0.99408 0.9941  0.99414 0.99416 0.99417\n",
      " 0.99418 0.99419 0.9942  0.99425 0.99426 0.99428 0.9943  0.99434 0.99437\n",
      " 0.99438 0.99439 0.9944  0.99444 0.99448 0.99451 0.99454 0.99456 0.99458\n",
      " 0.99459 0.9946  0.99462 0.99464 0.99467 0.99468 0.9947  0.99471 0.99472\n",
      " 0.99473 0.99474 0.99476 0.99478 0.99479 0.9948  0.99483 0.99484 0.99486\n",
      " 0.99488 0.99489 0.9949  0.99491 0.99492 0.99494 0.99495 0.99496 0.99498\n",
      " 0.99499 0.995   0.99501 0.99502 0.99504 0.99506 0.99508 0.99509 0.9951\n",
      " 0.99512 0.99514 0.99516 0.99517 0.99518 0.99519 0.9952  0.99521 0.99522\n",
      " 0.99523 0.99524 0.99525 0.99526 0.99528 0.99529 0.9953  0.99531 0.99532\n",
      " 0.99533 0.99534 0.99536 0.99538 0.9954  0.99541 0.99542 0.99543 0.99544\n",
      " 0.99545 0.99546 0.99547 0.99549 0.9955  0.99551 0.99552 0.99553 0.99554\n",
      " 0.99555 0.99556 0.99557 0.99558 0.9956  0.99562 0.99564 0.99565 0.99566\n",
      " 0.99568 0.99569 0.9957  0.99572 0.99573 0.99574 0.99575 0.99576 0.99577\n",
      " 0.99578 0.9958  0.99581 0.99582 0.99584 0.99585 0.99586 0.99587 0.99588\n",
      " 0.99589 0.9959  0.99592 0.99593 0.99594 0.99596 0.99598 0.99599 0.996\n",
      " 0.99603 0.99604 0.99605 0.99606 0.99608 0.99609 0.9961  0.99612 0.99613\n",
      " 0.99614 0.99615 0.99616 0.99617 0.99619 0.9962  0.99621 0.99622 0.99623\n",
      " 0.99624 0.99625 0.99627 0.99628 0.99629 0.9963  0.99631 0.99632 0.99633\n",
      " 0.99634 0.99635 0.99636 0.99638 0.99639 0.9964  0.99641 0.99642 0.99643\n",
      " 0.99645 0.99646 0.99647 0.99648 0.99649 0.9965  0.99651 0.99652 0.99654\n",
      " 0.99655 0.99656 0.99658 0.99659 0.9966  0.99661 0.99664 0.99665 0.99666\n",
      " 0.99667 0.99668 0.99669 0.9967  0.99672 0.99674 0.99675 0.99676 0.99677\n",
      " 0.99678 0.9968  0.99682 0.99683 0.99684 0.99685 0.99686 0.99688 0.99689\n",
      " 0.9969  0.99692 0.99693 0.99694 0.99695 0.99697 0.99698 0.99699 0.997\n",
      " 0.99701 0.99702 0.99704 0.99705 0.99706 0.99708 0.99709 0.9971  0.99712\n",
      " 0.99713 0.99714 0.99716 0.99717 0.99718 0.99719 0.9972  0.99721 0.99722\n",
      " 0.99724 0.99725 0.99726 0.99727 0.99728 0.99729 0.9973  0.99732 0.99733\n",
      " 0.99734 0.99735 0.99736 0.99738 0.99739 0.9974  0.99743 0.99744 0.99745\n",
      " 0.99746 0.99747 0.99748 0.9975  0.99752 0.99754 0.99756 0.99758 0.9976\n",
      " 0.99761 0.99764 0.99765 0.99768 0.99769 0.9977  0.99772 0.99774 0.99779\n",
      " 0.9978  0.99782 0.99783 0.99784 0.99785 0.99786 0.99787 0.99788 0.9979\n",
      " 0.99791 0.99796 0.99798 0.998   0.99801 0.99803 0.99808 0.9981  0.99814\n",
      " 0.99815 0.99817 0.99818 0.9982  0.99822 0.99823 0.99824 0.99828 0.9983\n",
      " 0.99832 0.99834 0.99836 0.9984  0.99842 0.99845 0.9985  0.99852 0.99854\n",
      " 0.99855 0.99859 0.9986  0.99864 0.99865 0.9987  0.99878 0.9988  0.99888\n",
      " 0.9989  0.99892 0.999   0.99901 0.9991  0.99914 0.99915 0.99918 0.9992\n",
      " 0.99922 0.99925 0.9993  0.99935 0.99938 0.99939 0.9994  0.9995  0.9996\n",
      " 0.99965 0.9997  0.99974 0.99975 0.99976 0.9998  0.9999  1.      1.00005\n",
      " 1.0001  1.00012 1.00015 1.0002  1.00024 1.00025 1.0003  1.0004  1.0006\n",
      " 1.0008  1.001   1.0014  1.0015  1.0018  1.0021  1.0022  1.00242 1.0026\n",
      " 1.00289 1.00315 1.0032  1.00369]\n",
      "436\n"
     ]
    }
   ],
   "source": [
    "val = df['density'].unique()\n",
    "val.sort()\n",
    "print(val)\n",
    "print(len(val))"
   ]
  },
  {
   "cell_type": "code",
   "execution_count": 26,
   "id": "c8e11bfb",
   "metadata": {},
   "outputs": [
    {
     "data": {
      "text/plain": [
       "0"
      ]
     },
     "execution_count": 26,
     "metadata": {},
     "output_type": "execute_result"
    }
   ],
   "source": [
    "df['density'].isnull().sum()"
   ]
  },
  {
   "cell_type": "markdown",
   "id": "423257cb",
   "metadata": {},
   "source": [
    "Based on looking at the results of the previous code, it is evident that there are no <i>**null**</i> values and <i>**multiple representation**</i> in the **`density`** column\n",
    "\n",
    "therefore, we can conclude that the **`density`** column is clean"
   ]
  },
  {
   "cell_type": "markdown",
   "id": "49aefc1d",
   "metadata": {},
   "source": [
    "### **`pH`** variable"
   ]
  },
  {
   "cell_type": "code",
   "execution_count": 13,
   "id": "a94028aa",
   "metadata": {},
   "outputs": [
    {
     "name": "stdout",
     "output_type": "stream",
     "text": [
      "[2.74 2.86 2.87 2.88 2.89 2.9  2.92 2.93 2.94 2.95 2.98 2.99 3.   3.01\n",
      " 3.02 3.03 3.04 3.05 3.06 3.07 3.08 3.09 3.1  3.11 3.12 3.13 3.14 3.15\n",
      " 3.16 3.17 3.18 3.19 3.2  3.21 3.22 3.23 3.24 3.25 3.26 3.27 3.28 3.29\n",
      " 3.3  3.31 3.32 3.33 3.34 3.35 3.36 3.37 3.38 3.39 3.4  3.41 3.42 3.43\n",
      " 3.44 3.45 3.46 3.47 3.48 3.49 3.5  3.51 3.52 3.53 3.54 3.55 3.56 3.57\n",
      " 3.58 3.59 3.6  3.61 3.62 3.63 3.66 3.67 3.68 3.69 3.7  3.71 3.72 3.74\n",
      " 3.75 3.78 3.85 3.9  4.01]\n",
      "89\n"
     ]
    }
   ],
   "source": [
    "val = df[\"pH\"].unique()\n",
    "val.sort()\n",
    "print(val)\n",
    "print(len(val))"
   ]
  },
  {
   "cell_type": "code",
   "execution_count": 14,
   "id": "47a1d5d3",
   "metadata": {},
   "outputs": [
    {
     "data": {
      "text/plain": [
       "0"
      ]
     },
     "execution_count": 14,
     "metadata": {},
     "output_type": "execute_result"
    }
   ],
   "source": [
    "df['pH'].isnull().sum()"
   ]
  },
  {
   "cell_type": "markdown",
   "id": "e64d189e",
   "metadata": {},
   "source": [
    "Based on looking at the results of the previous code, it is evident that there are no <i>**null**</i> values and <i>**multiple representation**</i> in the **`pH`** column\n",
    "\n",
    "therefore, we can conclude that the **`pH`** column is clean"
   ]
  },
  {
   "cell_type": "markdown",
   "id": "0b8369b9",
   "metadata": {},
   "source": [
    "### **`sulphates`** variable"
   ]
  },
  {
   "cell_type": "code",
   "execution_count": 28,
   "id": "5c8ff176",
   "metadata": {},
   "outputs": [
    {
     "name": "stdout",
     "output_type": "stream",
     "text": [
      "[0.33 0.37 0.39 0.4  0.42 0.43 0.44 0.45 0.46 0.47 0.48 0.49 0.5  0.51\n",
      " 0.52 0.53 0.54 0.55 0.56 0.57 0.58 0.59 0.6  0.61 0.62 0.63 0.64 0.65\n",
      " 0.66 0.67 0.68 0.69 0.7  0.71 0.72 0.73 0.74 0.75 0.76 0.77 0.78 0.79\n",
      " 0.8  0.81 0.82 0.83 0.84 0.85 0.86 0.87 0.88 0.89 0.9  0.91 0.92 0.93\n",
      " 0.94 0.95 0.96 0.97 0.98 0.99 1.   1.01 1.02 1.03 1.04 1.05 1.06 1.07\n",
      " 1.08 1.09 1.1  1.11 1.12 1.13 1.14 1.15 1.16 1.17 1.18 1.2  1.22 1.26\n",
      " 1.28 1.31 1.33 1.34 1.36 1.56 1.59 1.61 1.62 1.95 1.98 2.  ]\n",
      "96\n"
     ]
    }
   ],
   "source": [
    "val = df['sulphates'].unique()\n",
    "val.sort()\n",
    "print(val)\n",
    "print(len(val))"
   ]
  },
  {
   "cell_type": "code",
   "execution_count": 29,
   "id": "666e5f76",
   "metadata": {},
   "outputs": [
    {
     "data": {
      "text/plain": [
       "0"
      ]
     },
     "execution_count": 29,
     "metadata": {},
     "output_type": "execute_result"
    }
   ],
   "source": [
    "df['sulphates'].isnull().sum()"
   ]
  },
  {
   "cell_type": "markdown",
   "id": "4b416b25",
   "metadata": {},
   "source": [
    "Based on looking at the results of the previous code, it is evident that there are no <i>**null**</i> values and <i>**multiple representation**</i> in the **`sulphates`** column\n",
    "\n",
    "therefore, we can conclude that the **`sulphates`** column is clean"
   ]
  },
  {
   "cell_type": "markdown",
   "id": "96f01233",
   "metadata": {},
   "source": [
    "### **`alcohol`** variable"
   ]
  },
  {
   "cell_type": "code",
   "execution_count": 31,
   "id": "cf1daa10",
   "metadata": {},
   "outputs": [
    {
     "name": "stdout",
     "output_type": "stream",
     "text": [
      "[ 8.4         8.5         8.7         8.8         9.          9.05\n",
      "  9.1         9.2         9.23333333  9.25        9.3         9.4\n",
      "  9.5         9.55        9.56666667  9.6         9.7         9.8\n",
      "  9.9         9.95       10.         10.03333333 10.1        10.2\n",
      " 10.3        10.4        10.5        10.55       10.6        10.7\n",
      " 10.75       10.8        10.9        11.         11.06666667 11.1\n",
      " 11.2        11.3        11.4        11.5        11.6        11.7\n",
      " 11.8        11.9        11.95       12.         12.1        12.2\n",
      " 12.3        12.4        12.5        12.6        12.7        12.8\n",
      " 12.9        13.         13.1        13.2        13.3        13.4\n",
      " 13.5        13.56666667 13.6        14.         14.9       ]\n",
      "65\n"
     ]
    }
   ],
   "source": [
    "val = df['alcohol'].unique()\n",
    "val.sort()\n",
    "print(val)\n",
    "print(len(val))"
   ]
  },
  {
   "cell_type": "code",
   "execution_count": 33,
   "id": "53e78a76",
   "metadata": {},
   "outputs": [
    {
     "data": {
      "text/plain": [
       "0"
      ]
     },
     "execution_count": 33,
     "metadata": {},
     "output_type": "execute_result"
    }
   ],
   "source": [
    "df['alcohol'].isnull().sum()"
   ]
  },
  {
   "cell_type": "markdown",
   "id": "dca8571a",
   "metadata": {},
   "source": [
    "Based on looking at the results of the previous code, it is evident that there are no <i>**null**</i> values and <i>**multiple representation**</i> in the **`alcohol`** column\n",
    "\n",
    "therefore, we can conclude that the **`alcohol`** column is clean"
   ]
  },
  {
   "cell_type": "markdown",
   "id": "f1b728e3",
   "metadata": {},
   "source": [
    "### **`quality`** variable"
   ]
  },
  {
   "cell_type": "code",
   "execution_count": 34,
   "id": "64e3750d",
   "metadata": {},
   "outputs": [
    {
     "name": "stdout",
     "output_type": "stream",
     "text": [
      "[3 4 5 6 7 8]\n",
      "6\n"
     ]
    }
   ],
   "source": [
    "val = df['quality'].unique()\n",
    "val.sort()\n",
    "print(val)\n",
    "print(len(val))"
   ]
  },
  {
   "cell_type": "code",
   "execution_count": 35,
   "id": "c8aee770",
   "metadata": {},
   "outputs": [
    {
     "data": {
      "text/plain": [
       "0"
      ]
     },
     "execution_count": 35,
     "metadata": {},
     "output_type": "execute_result"
    }
   ],
   "source": [
    "df['quality'].isnull().sum()"
   ]
  },
  {
   "cell_type": "markdown",
   "id": "5c36ac38",
   "metadata": {},
   "source": [
    "Based on looking at the results of the previous code, it is evident that there are no <i>**null**</i> values and <i>**multiple representation**</i> in the **`quality`** column\n",
    "\n",
    "therefore, we can conclude that the **`quality`** column is clean"
   ]
  },
  {
   "cell_type": "markdown",
   "id": "c8bfd13e",
   "metadata": {},
   "source": [
    "# References\n",
    "\n",
    "- https://sinatech.info/en/acetic-volatile-acidity-in-wine-cider-vinegars-and-juices/#:~:text=Fixed%20acidity%20corresponds%20to%20the,of%20a%20distillation%20process%3A%20formic\n",
    "\n",
    "- https://www.awri.com.au/industry_support/winemaking_resources/frequently_asked_questions/acidity_and_ph/"
   ]
  },
  {
   "cell_type": "code",
   "execution_count": null,
   "id": "1eecdb40",
   "metadata": {},
   "outputs": [],
   "source": []
  }
 ],
 "metadata": {
  "kernelspec": {
   "display_name": "Python 3 (ipykernel)",
   "language": "python",
   "name": "python3"
  },
  "language_info": {
   "codemirror_mode": {
    "name": "ipython",
    "version": 3
   },
   "file_extension": ".py",
   "mimetype": "text/x-python",
   "name": "python",
   "nbconvert_exporter": "python",
   "pygments_lexer": "ipython3",
   "version": "3.11.5"
  }
 },
 "nbformat": 4,
 "nbformat_minor": 5
}
